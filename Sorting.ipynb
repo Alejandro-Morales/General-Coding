{
 "cells": [
  {
   "cell_type": "code",
   "execution_count": 7,
   "metadata": {},
   "outputs": [
    {
     "name": "stdout",
     "output_type": "stream",
     "text": [
      "[0, 2, 2, 3, 4, 5, 7, 7, 8, 8, 9]\n"
     ]
    }
   ],
   "source": [
    "#Alejandro Morales Madrigal\n",
    "\n",
    "#Quick Sort Algorithm\n",
    "\n",
    "def quickSort(lista):\n",
    "    length = len(lista)\n",
    "    if length <= 1:       #solo es para quitar caso de que length sea 0 o 1\n",
    "        return lista\n",
    "    else:\n",
    "        num = lista.pop() #removes last element of sequence     \n",
    "        \n",
    "    greater = []\n",
    "    lower = []\n",
    "    \n",
    "    for i in lista:\n",
    "        if i > num:\n",
    "            greater.append(i)\n",
    "        else:\n",
    "            lower.append(i)\n",
    "    \n",
    "    return quick_sort(lower) + [num] + quick_sort(greater)\n",
    "\n",
    "print(quickSort([5, 4, 7, 3, 8, 2, 7, 8, 9, 0, 2]))\n",
    "            "
   ]
  },
  {
   "cell_type": "code",
   "execution_count": 8,
   "metadata": {},
   "outputs": [
    {
     "name": "stdout",
     "output_type": "stream",
     "text": [
      "[1, 1, 1, 1, 1, 2, 2, 3, 3, 3, 3, 3, 5, 6, 7, 8, 9]\n"
     ]
    }
   ],
   "source": [
    "#Insertion Sort Algorithm\n",
    "\n",
    "def insertionSort(lista):\n",
    "    for i in range(len(lista)-1):\n",
    "        index = i+1\n",
    "        while index > 0 and lista[index] < lista[index-1]:\n",
    "            temp = lista[index-1]\n",
    "            lista[index-1] = lista[index]\n",
    "            lista[index] = temp\n",
    "            index =index-1\n",
    "            \n",
    "    return lista\n",
    "print(insertionSort([2,1,3,7,6,5,8,3,9,3,3,3,2,1,1,1,1]))"
   ]
  },
  {
   "cell_type": "code",
   "execution_count": null,
   "metadata": {},
   "outputs": [],
   "source": []
  }
 ],
 "metadata": {
  "kernelspec": {
   "display_name": "Python 3",
   "language": "python",
   "name": "python3"
  },
  "language_info": {
   "codemirror_mode": {
    "name": "ipython",
    "version": 3
   },
   "file_extension": ".py",
   "mimetype": "text/x-python",
   "name": "python",
   "nbconvert_exporter": "python",
   "pygments_lexer": "ipython3",
   "version": "3.8.3"
  },
  "latex_envs": {
   "LaTeX_envs_menu_present": true,
   "autoclose": false,
   "autocomplete": true,
   "bibliofile": "biblio.bib",
   "cite_by": "apalike",
   "current_citInitial": 1,
   "eqLabelWithNumbers": true,
   "eqNumInitial": 1,
   "hotkeys": {
    "equation": "Ctrl-E",
    "itemize": "Ctrl-I"
   },
   "labels_anchors": false,
   "latex_user_defs": false,
   "report_style_numbering": false,
   "user_envs_cfg": false
  },
  "nbTranslate": {
   "displayLangs": [
    "*"
   ],
   "hotkey": "alt-t",
   "langInMainMenu": true,
   "sourceLang": "en",
   "targetLang": "fr",
   "useGoogleTranslate": true
  },
  "toc": {
   "base_numbering": 1,
   "nav_menu": {},
   "number_sections": true,
   "sideBar": true,
   "skip_h1_title": false,
   "title_cell": "Table of Contents",
   "title_sidebar": "Contents",
   "toc_cell": false,
   "toc_position": {},
   "toc_section_display": true,
   "toc_window_display": false
  }
 },
 "nbformat": 4,
 "nbformat_minor": 4
}
